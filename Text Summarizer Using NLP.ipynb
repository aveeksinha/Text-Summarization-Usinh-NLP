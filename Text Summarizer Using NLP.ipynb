{
 "cells": [
  {
   "cell_type": "code",
   "execution_count": 9,
   "metadata": {},
   "outputs": [
    {
     "ename": "IndentationError",
     "evalue": "expected an indented block (<ipython-input-9-37136839186e>, line 23)",
     "output_type": "error",
     "traceback": [
      "\u001b[1;36m  File \u001b[1;32m\"<ipython-input-9-37136839186e>\"\u001b[1;36m, line \u001b[1;32m23\u001b[0m\n\u001b[1;33m    if word in sentence.lower():\u001b[0m\n\u001b[1;37m    ^\u001b[0m\n\u001b[1;31mIndentationError\u001b[0m\u001b[1;31m:\u001b[0m expected an indented block\n"
     ]
    }
   ],
   "source": [
    "import pandas as pd\n",
    "import numpy as np\n",
    "data = \"my name is Aveek Sinha. It is my pleasure to got opportunity to write article for xyz related to nlp\"\n",
    "from nltk.tokenize import word_tokenize, sent_tokenize\n",
    "from nltk.corpus import stopwords\n",
    "def solve(text):\n",
    "  stopwords1 = set(stopwords.words(\"english\"))\n",
    "words = word_tokenize(text)\n",
    "freqTable = {}\n",
    "for word in words:\n",
    "  word = word.lower()\n",
    "if word in stopwords1:\n",
    "  continue\n",
    "if word in freqTable:\n",
    "  freqTable[word] += 1\n",
    "else:\n",
    "  freqTable[word] = 1\n",
    "\n",
    "sentences = sent_tokenize(text)\n",
    "sentenceValue = {}\n",
    "for sentence in sentences:\n",
    "  for word, freq in freqTable.items():\n",
    "  if word in sentence.lower():\n",
    "  if sentence in sentenceValue:\n",
    "  sentenceValue[sentence] += freq\n",
    "else:\n",
    "  sentenceValue[sentence] = freq\n",
    "sumValues = 0\n",
    "for sentence in sentenceValue:\n",
    "  sumValues += sentenceValue[sentence]\n",
    "average = int(sumValues / len(sentenceValue))\n",
    "\n",
    "summary = ''\n",
    "for sentence in sentences:\n",
    "  if (sentence in sentenceValue) and(sentenceValue[sentence] > (1.2 * average)):\n",
    "    summary += \"\" + sentence\n",
    "return summary"
   ]
  },
  {
   "cell_type": "code",
   "execution_count": null,
   "metadata": {},
   "outputs": [],
   "source": []
  }
 ],
 "metadata": {
  "kernelspec": {
   "display_name": "Python 3",
   "language": "python",
   "name": "python3"
  },
  "language_info": {
   "codemirror_mode": {
    "name": "ipython",
    "version": 3
   },
   "file_extension": ".py",
   "mimetype": "text/x-python",
   "name": "python",
   "nbconvert_exporter": "python",
   "pygments_lexer": "ipython3",
   "version": "3.8.3"
  }
 },
 "nbformat": 4,
 "nbformat_minor": 4
}
